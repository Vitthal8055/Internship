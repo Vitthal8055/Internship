{
 "cells": [
  {
   "cell_type": "code",
   "execution_count": 1,
   "id": "10f4c11b",
   "metadata": {},
   "outputs": [
    {
     "name": "stdout",
     "output_type": "stream",
     "text": [
      "Input length of shorter triangle side:\n",
      "Enter a:3\n",
      "Enter b:5\n",
      "The length of hypotenuse is : 5.830951894845301\n"
     ]
    }
   ],
   "source": [
    "# HYPOTENUSE\n",
    "from math import sqrt\n",
    "print(\"Input length of shorter triangle side:\")\n",
    "a = float(input(\"Enter a:\"))\n",
    "b = float(input(\"Enter b:\"))\n",
    "c = sqrt(a**2 + b**2)\n",
    "print(\"The length of hypotenuse is :\",c)"
   ]
  },
  {
   "cell_type": "code",
   "execution_count": null,
   "id": "10872301",
   "metadata": {},
   "outputs": [],
   "source": []
  },
  {
   "cell_type": "code",
   "execution_count": null,
   "id": "2c96264d",
   "metadata": {},
   "outputs": [],
   "source": []
  }
 ],
 "metadata": {
  "kernelspec": {
   "display_name": "Python 3",
   "language": "python",
   "name": "python3"
  },
  "language_info": {
   "codemirror_mode": {
    "name": "ipython",
    "version": 3
   },
   "file_extension": ".py",
   "mimetype": "text/x-python",
   "name": "python",
   "nbconvert_exporter": "python",
   "pygments_lexer": "ipython3",
   "version": "3.8.8"
  }
 },
 "nbformat": 4,
 "nbformat_minor": 5
}
